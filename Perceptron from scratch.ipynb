{
 "cells": [
  {
   "cell_type": "code",
   "execution_count": 1,
   "id": "8efe5108",
   "metadata": {},
   "outputs": [],
   "source": [
    "import numpy as np\n",
    "import pandas as pd\n",
    "from tqdm.auto import tqdm\n",
    "import matplotlib.pyplot as plt"
   ]
  },
  {
   "cell_type": "code",
   "execution_count": null,
   "id": "10039707",
   "metadata": {},
   "outputs": [],
   "source": []
  },
  {
   "cell_type": "code",
   "execution_count": 512,
   "id": "29007edb",
   "metadata": {},
   "outputs": [],
   "source": [
    "def mse(y_true, y_pred):\n",
    "    return np.mean(np.power((y_true - y_pred), 2))\n",
    "\n",
    "def mse_prime(y_true, y_pred):\n",
    "    return 2 * (y_pred - y_true)/np.size(y_true)"
   ]
  },
  {
   "cell_type": "code",
   "execution_count": 513,
   "id": "07bb3b49",
   "metadata": {},
   "outputs": [],
   "source": [
    "def cross_entropy(y_true, y_pred):\n",
    "    epsilon = 1e-12\n",
    "    y_pred = np.clip(y_pred, epsilon, 1. - epsilon)\n",
    "    return -np.sum(y_true * np.log(y_pred)) / y_true.shape[1]\n",
    "\n",
    "def cross_entropy_prime(y_true, y_pred):\n",
    "#     return -y_true / y_pred\n",
    "    return y_pred - y_true"
   ]
  },
  {
   "cell_type": "code",
   "execution_count": null,
   "id": "563b501b",
   "metadata": {},
   "outputs": [],
   "source": []
  },
  {
   "cell_type": "code",
   "execution_count": 514,
   "id": "72c9fe0e",
   "metadata": {},
   "outputs": [],
   "source": [
    "class Layer:\n",
    "    def __init__(self):\n",
    "        self.input = None\n",
    "        self.output = None\n",
    "\n",
    "    def forward(self, input):\n",
    "        pass\n",
    "\n",
    "    def backward(self, output_gradient, learning_rate):\n",
    "        pass"
   ]
  },
  {
   "cell_type": "code",
   "execution_count": 515,
   "id": "c199c8ff",
   "metadata": {},
   "outputs": [],
   "source": [
    "class Dense(Layer):\n",
    "    def __init__(self, input_size, output_size):\n",
    "#         self.weights = np.random.randn(output_size, input_size)\n",
    "#         self.bias = np.random.randn(output_size, 1)\n",
    "#         self.weights = np.random.randn(output_size, input_size) * np.sqrt(2 / input_size)\n",
    "#         self.bias = np.zeros((output_size, 1))\n",
    "        self.weights = np.random.normal(0, np.sqrt(2 / (input_size + output_size)), (output_size, input_size))\n",
    "        self.bias = np.zeros((output_size, 1))\n",
    "        \n",
    "    def forward(self, input):\n",
    "        self.input = input\n",
    "        return np.dot(self.weights, self.input) + self.bias\n",
    "    \n",
    "    def backward(self, output_gradient, learning_rate):\n",
    "        dEdX = np.dot(self.weights.T, output_gradient)\n",
    "        weights_gradient = np.dot(output_gradient, self.input.T)\n",
    "        self.weights -= learning_rate * weights_gradient        \n",
    "#         self.bias -= learning_rate * output_gradient\n",
    "        self.bias -= learning_rate * np.reshape(np.sum(output_gradient, axis= 1), (output_gradient.shape[0], 1))\n",
    "\n",
    "        return dEdX\n",
    "        "
   ]
  },
  {
   "cell_type": "code",
   "execution_count": 516,
   "id": "0fd477e2",
   "metadata": {},
   "outputs": [],
   "source": [
    "class Activation(Layer):\n",
    "    def __init__(self, activation, activation_prime):\n",
    "        self.activation = activation\n",
    "        self.activation_prime = activation_prime\n",
    "        \n",
    "    def forward(self, input):\n",
    "        self.input = input\n",
    "        return self.activation(self.input)\n",
    "    \n",
    "    def backward(self, output_gradient, learning_rate):\n",
    "        return np.multiply(output_gradient, self.activation_prime(self.input))"
   ]
  },
  {
   "cell_type": "code",
   "execution_count": null,
   "id": "4f14f505",
   "metadata": {},
   "outputs": [],
   "source": []
  },
  {
   "cell_type": "code",
   "execution_count": 517,
   "id": "a1eff585",
   "metadata": {},
   "outputs": [],
   "source": [
    "class ReLU(Activation):\n",
    "    def __init__(self):\n",
    "        relu = lambda x: np.maximum(0, x)\n",
    "        relu_prime = lambda x: np.where(x > 0, 1, 0)\n",
    "        super().__init__(relu, relu_prime)"
   ]
  },
  {
   "cell_type": "code",
   "execution_count": 518,
   "id": "ad73d92d",
   "metadata": {},
   "outputs": [],
   "source": [
    "# class Softmax(Activation):\n",
    "#     def __init__(self):\n",
    "#         softmax = lambda x: np.exp(x) / np.sum(np.exp(x), axis=0)\n",
    "        \n",
    "#         def make_jacobian(x):\n",
    "#             s = softmax(x).reshape(-1, 1)\n",
    "#             jacobian = np.diagflat(s) - np.dot(s, s.T)\n",
    "#             return jacobian\n",
    "                        \n",
    "#         softmax_prime = make_jacobian\n",
    "\n",
    "#         super().__init__(softmax, softmax_prime)\n",
    "\n",
    "class Softmax(Activation):\n",
    "    def __init__(self):\n",
    "        def softmax(x):\n",
    "            exp_values = np.exp(x - np.max(x, axis=0, keepdims=True)) \n",
    "            return exp_values / np.sum(exp_values, axis=0, keepdims=True)\n",
    "        \n",
    "        def softmax_prime(x):\n",
    "            return 1 \n",
    "            \n",
    "        super().__init__(activation=softmax, activation_prime=softmax_prime)"
   ]
  },
  {
   "cell_type": "code",
   "execution_count": 519,
   "id": "9c686d23",
   "metadata": {},
   "outputs": [],
   "source": [
    "class Tanh(Activation):\n",
    "    def __init__(self):\n",
    "        tanh = lambda x: np.tanh(x)\n",
    "        tanh_prime = lambda x: 1 - np.tanh(x)**2\n",
    "        super().__init__(tanh, tanh_prime)"
   ]
  },
  {
   "cell_type": "markdown",
   "id": "ce71a73c",
   "metadata": {},
   "source": [
    "**SOLVE XOR PROBLEM**"
   ]
  },
  {
   "cell_type": "code",
   "execution_count": 520,
   "id": "4bc6826a",
   "metadata": {},
   "outputs": [],
   "source": [
    "X = np.reshape([[0,0], [0,1], [1,0], [1,1]], (4,2,1))\n",
    "Y = np.reshape([[0], [1], [1], [0]], (4,1,1))"
   ]
  },
  {
   "cell_type": "code",
   "execution_count": 521,
   "id": "6c961217",
   "metadata": {},
   "outputs": [],
   "source": [
    "network_xor = [Dense(2, 4), Tanh(), Dense(4,1), Tanh()]\n"
   ]
  },
  {
   "cell_type": "code",
   "execution_count": 522,
   "id": "9a26b8bb",
   "metadata": {
    "scrolled": true
   },
   "outputs": [
    {
     "name": "stdout",
     "output_type": "stream",
     "text": [
      "epoch = 0, error = 0.3794699963263519\n",
      "epoch = 1, error = 0.3988568994400156\n",
      "epoch = 2, error = 0.3905515184189131\n",
      "epoch = 3, error = 0.3831956573713088\n",
      "epoch = 4, error = 0.37807564469933674\n",
      "epoch = 5, error = 0.3743480738779524\n",
      "epoch = 6, error = 0.3714026243598015\n",
      "epoch = 7, error = 0.36889126205967154\n",
      "epoch = 8, error = 0.366616575983241\n",
      "epoch = 9, error = 0.36446500752929245\n",
      "epoch = 10, error = 0.3623714915340024\n",
      "epoch = 11, error = 0.3602998208742597\n",
      "epoch = 12, error = 0.3582311549097046\n",
      "epoch = 13, error = 0.35615709032796067\n",
      "epoch = 14, error = 0.354075423364724\n",
      "epoch = 15, error = 0.35198753993911047\n",
      "epoch = 16, error = 0.34989680253215527\n",
      "epoch = 17, error = 0.34780755201813796\n",
      "epoch = 18, error = 0.3457244912403019\n",
      "epoch = 19, error = 0.34365230691151083\n",
      "epoch = 20, error = 0.3415954411748914\n",
      "epoch = 21, error = 0.33955795780327086\n",
      "epoch = 22, error = 0.3375434688089617\n",
      "epoch = 23, error = 0.3355551001230672\n",
      "epoch = 24, error = 0.33359548298338143\n",
      "epoch = 25, error = 0.3316667625846139\n",
      "epoch = 26, error = 0.3297706185427892\n",
      "epoch = 27, error = 0.327908293532175\n",
      "epoch = 28, error = 0.3260806275291186\n",
      "epoch = 29, error = 0.3242880957366575\n",
      "epoch = 30, error = 0.3225308486528702\n",
      "epoch = 31, error = 0.3208087530003655\n",
      "epoch = 32, error = 0.31912143242352914\n",
      "epoch = 33, error = 0.3174683070231751\n",
      "epoch = 34, error = 0.31584863095450644\n",
      "epoch = 35, error = 0.31426152747091196\n",
      "epoch = 36, error = 0.31270602095304556\n",
      "epoch = 37, error = 0.3111810656160824\n",
      "epoch = 38, error = 0.309685570732779\n",
      "epoch = 39, error = 0.30821842234079455\n",
      "epoch = 40, error = 0.30677850151533437\n",
      "epoch = 41, error = 0.3053646993795296\n",
      "epoch = 42, error = 0.3039759290935222\n",
      "epoch = 43, error = 0.30261113510883303\n",
      "epoch = 44, error = 0.30126929999840774\n",
      "epoch = 45, error = 0.2999494491769602\n",
      "epoch = 46, error = 0.2986506538139097\n",
      "epoch = 47, error = 0.29737203221592245\n",
      "epoch = 48, error = 0.29611274992169556\n",
      "epoch = 49, error = 0.2948720187120456\n",
      "epoch = 50, error = 0.2936490946972331\n",
      "epoch = 51, error = 0.2924432756039676\n",
      "epoch = 52, error = 0.2912538973492449\n",
      "epoch = 53, error = 0.29008032995890803\n",
      "epoch = 54, error = 0.28892197286662824\n",
      "epoch = 55, error = 0.2877782496141425\n",
      "epoch = 56, error = 0.28664860196566105\n",
      "epoch = 57, error = 0.28553248344739623\n",
      "epoch = 58, error = 0.2844293523258085\n",
      "epoch = 59, error = 0.2833386640438438\n",
      "epoch = 60, error = 0.28225986314150064\n",
      "epoch = 61, error = 0.2811923746939965\n",
      "epoch = 62, error = 0.2801355953062614\n",
      "epoch = 63, error = 0.2790888837054577\n",
      "epoch = 64, error = 0.2780515509730025\n",
      "epoch = 65, error = 0.27702285045382247\n",
      "epoch = 66, error = 0.27600196737327964\n",
      "epoch = 67, error = 0.2749880081816436\n",
      "epoch = 68, error = 0.27397998963267733\n",
      "epoch = 69, error = 0.27297682758754255\n",
      "epoch = 70, error = 0.27197732551865783\n",
      "epoch = 71, error = 0.2709801626712941\n",
      "epoch = 72, error = 0.2699838818245439\n",
      "epoch = 73, error = 0.2689868765788991\n",
      "epoch = 74, error = 0.2679873780860772\n",
      "epoch = 75, error = 0.26698344112906297\n",
      "epoch = 76, error = 0.26597292945776896\n",
      "epoch = 77, error = 0.264953500289523\n",
      "epoch = 78, error = 0.26392258789516565\n",
      "epoch = 79, error = 0.2628773862124174\n",
      "epoch = 80, error = 0.2618148304600443\n",
      "epoch = 81, error = 0.26073157777106654\n",
      "epoch = 82, error = 0.2596239869227324\n",
      "epoch = 83, error = 0.25848809731716627\n",
      "epoch = 84, error = 0.25731960746117966\n",
      "epoch = 85, error = 0.25611385330795394\n",
      "epoch = 86, error = 0.2548657869573985\n",
      "epoch = 87, error = 0.2535699563647842\n",
      "epoch = 88, error = 0.25222048687526166\n",
      "epoch = 89, error = 0.2508110655786604\n",
      "epoch = 90, error = 0.24933492965420825\n",
      "epoch = 91, error = 0.2477848600337112\n",
      "epoch = 92, error = 0.2461531818348763\n",
      "epoch = 93, error = 0.24443177308044267\n",
      "epoch = 94, error = 0.24261208319833188\n",
      "epoch = 95, error = 0.24068516266974088\n",
      "epoch = 96, error = 0.23864170494045922\n",
      "epoch = 97, error = 0.236472101335763\n",
      "epoch = 98, error = 0.23416650924543886\n",
      "epoch = 99, error = 0.23171493332920937\n"
     ]
    },
    {
     "data": {
      "text/plain": [
       "[<matplotlib.lines.Line2D at 0x25c6bca2f10>]"
      ]
     },
     "execution_count": 522,
     "metadata": {},
     "output_type": "execute_result"
    },
    {
     "data": {
      "image/png": "[encoded data removed]",
      "text/plain": [
       "<Figure size 640x480 with 1 Axes>"
      ]
     },
     "metadata": {},
     "output_type": "display_data"
    }
   ],
   "source": [
    "epochs = 100\n",
    "learning_rate = 0.1\n",
    "errors = []\n",
    "error = 0\n",
    "\n",
    "for e in range(epochs):\n",
    "    for x, y in zip(X, Y):\n",
    "#         print(x, y)\n",
    "        forward_data = x\n",
    "        for layer in network_xor:\n",
    "            forward_data = layer.forward(forward_data)\n",
    "        \n",
    "#         print('forward data', forward_data)\n",
    "\n",
    "        error += mse(y, forward_data)\n",
    "\n",
    "        grad = mse_prime(y, forward_data)\n",
    "#         print(\"grad = \", grad, \", grad shape = \", grad.shape)\n",
    "\n",
    "        for layer in reversed(network_xor):\n",
    "            grad = layer.backward(grad, learning_rate)\n",
    "            \n",
    "#             print(\"grad = \", grad, \", grad shape = \", grad.shape)\n",
    "\n",
    "\n",
    "\n",
    "    error /= len(X)\n",
    "    errors.append(error)\n",
    "    print(f\"epoch = {e}, error = {error}\")\n",
    "        \n",
    "        \n",
    "plt.plot(range(0, epochs), errors)"
   ]
  },
  {
   "cell_type": "code",
   "execution_count": null,
   "id": "244bc21d",
   "metadata": {},
   "outputs": [],
   "source": []
  },
  {
   "cell_type": "code",
   "execution_count": null,
   "id": "f1b20c0d",
   "metadata": {},
   "outputs": [],
   "source": []
  },
  {
   "cell_type": "code",
   "execution_count": 203,
   "id": "3c9f054d",
   "metadata": {},
   "outputs": [],
   "source": [
    "def one_hot(num, length):\n",
    "    \n",
    "    ans = np.zeros(length)\n",
    "    ans[num] = 1\n",
    "    \n",
    "    return ans.reshape(-1,1)"
   ]
  },
  {
   "cell_type": "code",
   "execution_count": 482,
   "id": "911a3284",
   "metadata": {},
   "outputs": [
    {
     "data": {
      "text/html": [
       "<div>\n",
       "<style scoped>\n",
       "    .dataframe tbody tr th:only-of-type {\n",
       "        vertical-align: middle;\n",
       "    }\n",
       "\n",
       "    .dataframe tbody tr th {\n",
       "        vertical-align: top;\n",
       "    }\n",
       "\n",
       "    .dataframe thead th {\n",
       "        text-align: right;\n",
       "    }\n",
       "</style>\n",
       "<table border=\"1\" class=\"dataframe\">\n",
       "  <thead>\n",
       "    <tr style=\"text-align: right;\">\n",
       "      <th></th>\n",
       "      <th>label</th>\n",
       "      <th>1x1</th>\n",
       "      <th>1x2</th>\n",
       "      <th>1x3</th>\n",
       "      <th>1x4</th>\n",
       "      <th>1x5</th>\n",
       "      <th>1x6</th>\n",
       "      <th>1x7</th>\n",
       "      <th>1x8</th>\n",
       "      <th>1x9</th>\n",
       "      <th>...</th>\n",
       "      <th>28x19</th>\n",
       "      <th>28x20</th>\n",
       "      <th>28x21</th>\n",
       "      <th>28x22</th>\n",
       "      <th>28x23</th>\n",
       "      <th>28x24</th>\n",
       "      <th>28x25</th>\n",
       "      <th>28x26</th>\n",
       "      <th>28x27</th>\n",
       "      <th>28x28</th>\n",
       "    </tr>\n",
       "  </thead>\n",
       "  <tbody>\n",
       "    <tr>\n",
       "      <th>0</th>\n",
       "      <td>5</td>\n",
       "      <td>0</td>\n",
       "      <td>0</td>\n",
       "      <td>0</td>\n",
       "      <td>0</td>\n",
       "      <td>0</td>\n",
       "      <td>0</td>\n",
       "      <td>0</td>\n",
       "      <td>0</td>\n",
       "      <td>0</td>\n",
       "      <td>...</td>\n",
       "      <td>0</td>\n",
       "      <td>0</td>\n",
       "      <td>0</td>\n",
       "      <td>0</td>\n",
       "      <td>0</td>\n",
       "      <td>0</td>\n",
       "      <td>0</td>\n",
       "      <td>0</td>\n",
       "      <td>0</td>\n",
       "      <td>0</td>\n",
       "    </tr>\n",
       "    <tr>\n",
       "      <th>1</th>\n",
       "      <td>0</td>\n",
       "      <td>0</td>\n",
       "      <td>0</td>\n",
       "      <td>0</td>\n",
       "      <td>0</td>\n",
       "      <td>0</td>\n",
       "      <td>0</td>\n",
       "      <td>0</td>\n",
       "      <td>0</td>\n",
       "      <td>0</td>\n",
       "      <td>...</td>\n",
       "      <td>0</td>\n",
       "      <td>0</td>\n",
       "      <td>0</td>\n",
       "      <td>0</td>\n",
       "      <td>0</td>\n",
       "      <td>0</td>\n",
       "      <td>0</td>\n",
       "      <td>0</td>\n",
       "      <td>0</td>\n",
       "      <td>0</td>\n",
       "    </tr>\n",
       "    <tr>\n",
       "      <th>2</th>\n",
       "      <td>4</td>\n",
       "      <td>0</td>\n",
       "      <td>0</td>\n",
       "      <td>0</td>\n",
       "      <td>0</td>\n",
       "      <td>0</td>\n",
       "      <td>0</td>\n",
       "      <td>0</td>\n",
       "      <td>0</td>\n",
       "      <td>0</td>\n",
       "      <td>...</td>\n",
       "      <td>0</td>\n",
       "      <td>0</td>\n",
       "      <td>0</td>\n",
       "      <td>0</td>\n",
       "      <td>0</td>\n",
       "      <td>0</td>\n",
       "      <td>0</td>\n",
       "      <td>0</td>\n",
       "      <td>0</td>\n",
       "      <td>0</td>\n",
       "    </tr>\n",
       "    <tr>\n",
       "      <th>3</th>\n",
       "      <td>1</td>\n",
       "      <td>0</td>\n",
       "      <td>0</td>\n",
       "      <td>0</td>\n",
       "      <td>0</td>\n",
       "      <td>0</td>\n",
       "      <td>0</td>\n",
       "      <td>0</td>\n",
       "      <td>0</td>\n",
       "      <td>0</td>\n",
       "      <td>...</td>\n",
       "      <td>0</td>\n",
       "      <td>0</td>\n",
       "      <td>0</td>\n",
       "      <td>0</td>\n",
       "      <td>0</td>\n",
       "      <td>0</td>\n",
       "      <td>0</td>\n",
       "      <td>0</td>\n",
       "      <td>0</td>\n",
       "      <td>0</td>\n",
       "    </tr>\n",
       "    <tr>\n",
       "      <th>4</th>\n",
       "      <td>9</td>\n",
       "      <td>0</td>\n",
       "      <td>0</td>\n",
       "      <td>0</td>\n",
       "      <td>0</td>\n",
       "      <td>0</td>\n",
       "      <td>0</td>\n",
       "      <td>0</td>\n",
       "      <td>0</td>\n",
       "      <td>0</td>\n",
       "      <td>...</td>\n",
       "      <td>0</td>\n",
       "      <td>0</td>\n",
       "      <td>0</td>\n",
       "      <td>0</td>\n",
       "      <td>0</td>\n",
       "      <td>0</td>\n",
       "      <td>0</td>\n",
       "      <td>0</td>\n",
       "      <td>0</td>\n",
       "      <td>0</td>\n",
       "    </tr>\n",
       "    <tr>\n",
       "      <th>...</th>\n",
       "      <td>...</td>\n",
       "      <td>...</td>\n",
       "      <td>...</td>\n",
       "      <td>...</td>\n",
       "      <td>...</td>\n",
       "      <td>...</td>\n",
       "      <td>...</td>\n",
       "      <td>...</td>\n",
       "      <td>...</td>\n",
       "      <td>...</td>\n",
       "      <td>...</td>\n",
       "      <td>...</td>\n",
       "      <td>...</td>\n",
       "      <td>...</td>\n",
       "      <td>...</td>\n",
       "      <td>...</td>\n",
       "      <td>...</td>\n",
       "      <td>...</td>\n",
       "      <td>...</td>\n",
       "      <td>...</td>\n",
       "      <td>...</td>\n",
       "    </tr>\n",
       "    <tr>\n",
       "      <th>59995</th>\n",
       "      <td>8</td>\n",
       "      <td>0</td>\n",
       "      <td>0</td>\n",
       "      <td>0</td>\n",
       "      <td>0</td>\n",
       "      <td>0</td>\n",
       "      <td>0</td>\n",
       "      <td>0</td>\n",
       "      <td>0</td>\n",
       "      <td>0</td>\n",
       "      <td>...</td>\n",
       "      <td>0</td>\n",
       "      <td>0</td>\n",
       "      <td>0</td>\n",
       "      <td>0</td>\n",
       "      <td>0</td>\n",
       "      <td>0</td>\n",
       "      <td>0</td>\n",
       "      <td>0</td>\n",
       "      <td>0</td>\n",
       "      <td>0</td>\n",
       "    </tr>\n",
       "    <tr>\n",
       "      <th>59996</th>\n",
       "      <td>3</td>\n",
       "      <td>0</td>\n",
       "      <td>0</td>\n",
       "      <td>0</td>\n",
       "      <td>0</td>\n",
       "      <td>0</td>\n",
       "      <td>0</td>\n",
       "      <td>0</td>\n",
       "      <td>0</td>\n",
       "      <td>0</td>\n",
       "      <td>...</td>\n",
       "      <td>0</td>\n",
       "      <td>0</td>\n",
       "      <td>0</td>\n",
       "      <td>0</td>\n",
       "      <td>0</td>\n",
       "      <td>0</td>\n",
       "      <td>0</td>\n",
       "      <td>0</td>\n",
       "      <td>0</td>\n",
       "      <td>0</td>\n",
       "    </tr>\n",
       "    <tr>\n",
       "      <th>59997</th>\n",
       "      <td>5</td>\n",
       "      <td>0</td>\n",
       "      <td>0</td>\n",
       "      <td>0</td>\n",
       "      <td>0</td>\n",
       "      <td>0</td>\n",
       "      <td>0</td>\n",
       "      <td>0</td>\n",
       "      <td>0</td>\n",
       "      <td>0</td>\n",
       "      <td>...</td>\n",
       "      <td>0</td>\n",
       "      <td>0</td>\n",
       "      <td>0</td>\n",
       "      <td>0</td>\n",
       "      <td>0</td>\n",
       "      <td>0</td>\n",
       "      <td>0</td>\n",
       "      <td>0</td>\n",
       "      <td>0</td>\n",
       "      <td>0</td>\n",
       "    </tr>\n",
       "    <tr>\n",
       "      <th>59998</th>\n",
       "      <td>6</td>\n",
       "      <td>0</td>\n",
       "      <td>0</td>\n",
       "      <td>0</td>\n",
       "      <td>0</td>\n",
       "      <td>0</td>\n",
       "      <td>0</td>\n",
       "      <td>0</td>\n",
       "      <td>0</td>\n",
       "      <td>0</td>\n",
       "      <td>...</td>\n",
       "      <td>0</td>\n",
       "      <td>0</td>\n",
       "      <td>0</td>\n",
       "      <td>0</td>\n",
       "      <td>0</td>\n",
       "      <td>0</td>\n",
       "      <td>0</td>\n",
       "      <td>0</td>\n",
       "      <td>0</td>\n",
       "      <td>0</td>\n",
       "    </tr>\n",
       "    <tr>\n",
       "      <th>59999</th>\n",
       "      <td>8</td>\n",
       "      <td>0</td>\n",
       "      <td>0</td>\n",
       "      <td>0</td>\n",
       "      <td>0</td>\n",
       "      <td>0</td>\n",
       "      <td>0</td>\n",
       "      <td>0</td>\n",
       "      <td>0</td>\n",
       "      <td>0</td>\n",
       "      <td>...</td>\n",
       "      <td>0</td>\n",
       "      <td>0</td>\n",
       "      <td>0</td>\n",
       "      <td>0</td>\n",
       "      <td>0</td>\n",
       "      <td>0</td>\n",
       "      <td>0</td>\n",
       "      <td>0</td>\n",
       "      <td>0</td>\n",
       "      <td>0</td>\n",
       "    </tr>\n",
       "  </tbody>\n",
       "</table>\n",
       "<p>60000 rows × 785 columns</p>\n",
       "</div>"
      ],
      "text/plain": [
       "       label  1x1  1x2  1x3  1x4  1x5  1x6  1x7  1x8  1x9  ...  28x19  28x20  \\\n",
       "0          5    0    0    0    0    0    0    0    0    0  ...      0      0   \n",
       "1          0    0    0    0    0    0    0    0    0    0  ...      0      0   \n",
       "2          4    0    0    0    0    0    0    0    0    0  ...      0      0   \n",
       "3          1    0    0    0    0    0    0    0    0    0  ...      0      0   \n",
       "4          9    0    0    0    0    0    0    0    0    0  ...      0      0   \n",
       "...      ...  ...  ...  ...  ...  ...  ...  ...  ...  ...  ...    ...    ...   \n",
       "59995      8    0    0    0    0    0    0    0    0    0  ...      0      0   \n",
       "59996      3    0    0    0    0    0    0    0    0    0  ...      0      0   \n",
       "59997      5    0    0    0    0    0    0    0    0    0  ...      0      0   \n",
       "59998      6    0    0    0    0    0    0    0    0    0  ...      0      0   \n",
       "59999      8    0    0    0    0    0    0    0    0    0  ...      0      0   \n",
       "\n",
       "       28x21  28x22  28x23  28x24  28x25  28x26  28x27  28x28  \n",
       "0          0      0      0      0      0      0      0      0  \n",
       "1          0      0      0      0      0      0      0      0  \n",
       "2          0      0      0      0      0      0      0      0  \n",
       "3          0      0      0      0      0      0      0      0  \n",
       "4          0      0      0      0      0      0      0      0  \n",
       "...      ...    ...    ...    ...    ...    ...    ...    ...  \n",
       "59995      0      0      0      0      0      0      0      0  \n",
       "59996      0      0      0      0      0      0      0      0  \n",
       "59997      0      0      0      0      0      0      0      0  \n",
       "59998      0      0      0      0      0      0      0      0  \n",
       "59999      0      0      0      0      0      0      0      0  \n",
       "\n",
       "[60000 rows x 785 columns]"
      ]
     },
     "execution_count": 482,
     "metadata": {},
     "output_type": "execute_result"
    }
   ],
   "source": [
    "data = pd.read_csv(r'C:/Users/sasha/Desktop/JUPYTER/Datasets/mnist/mnist_train.csv')\n",
    "data"
   ]
  },
  {
   "cell_type": "code",
   "execution_count": 275,
   "id": "1bd258db",
   "metadata": {
    "scrolled": true
   },
   "outputs": [
    {
     "data": {
      "text/plain": [
       "array([[0., 1., 0., ..., 0., 0., 0.],\n",
       "       [0., 0., 0., ..., 0., 0., 0.],\n",
       "       [0., 0., 0., ..., 0., 0., 0.],\n",
       "       ...,\n",
       "       [0., 0., 0., ..., 0., 0., 0.],\n",
       "       [0., 0., 0., ..., 0., 0., 1.],\n",
       "       [0., 0., 0., ..., 0., 0., 0.]])"
      ]
     },
     "execution_count": 275,
     "metadata": {},
     "output_type": "execute_result"
    }
   ],
   "source": [
    "Y_mnist = data['label'].to_numpy()\n",
    "Y_train = np.hstack([one_hot(elem, 10) for elem in Y_mnist])\n",
    "Y_train"
   ]
  },
  {
   "cell_type": "code",
   "execution_count": 338,
   "id": "7f7a8f5c",
   "metadata": {},
   "outputs": [
    {
     "data": {
      "text/plain": [
       "array([[0., 0., 0., ..., 0., 0., 0.],\n",
       "       [0., 0., 0., ..., 0., 0., 0.],\n",
       "       [0., 0., 0., ..., 0., 0., 0.],\n",
       "       ...,\n",
       "       [0., 0., 0., ..., 0., 0., 0.],\n",
       "       [0., 0., 0., ..., 0., 0., 0.],\n",
       "       [0., 0., 0., ..., 0., 0., 0.]])"
      ]
     },
     "execution_count": 338,
     "metadata": {},
     "output_type": "execute_result"
    }
   ],
   "source": [
    "X_train = data.drop(columns='label').to_numpy().T\n",
    "X_train = (X_train/ 255)\n",
    "X_train"
   ]
  },
  {
   "cell_type": "code",
   "execution_count": null,
   "id": "a7186c1d",
   "metadata": {},
   "outputs": [],
   "source": []
  },
  {
   "cell_type": "code",
   "execution_count": 634,
   "id": "8bddf0e8",
   "metadata": {},
   "outputs": [
    {
     "data": {
      "text/plain": [
       "array([2, 2, 2], dtype=int64)"
      ]
     },
     "execution_count": 634,
     "metadata": {},
     "output_type": "execute_result"
    }
   ],
   "source": [
    "np.argmax(np.array([[1,2,3],[4,5,6],[7,8,9]]), axis= 0)"
   ]
  },
  {
   "cell_type": "code",
   "execution_count": null,
   "id": "2ea97e79",
   "metadata": {},
   "outputs": [],
   "source": []
  },
  {
   "cell_type": "code",
   "execution_count": 525,
   "id": "c9f63f30",
   "metadata": {},
   "outputs": [],
   "source": [
    "network = [Dense(28*28, 256), Tanh(), Dense(256, 128), Tanh(), Dense(128, 10), Softmax()]"
   ]
  },
  {
   "cell_type": "code",
   "execution_count": 526,
   "id": "bcbe5607",
   "metadata": {
    "scrolled": false
   },
   "outputs": [
    {
     "data": {
      "application/vnd.jupyter.widget-view+json": {
       "model_id": "2bf222766b1e4807ab1b57cf8f6de459",
       "version_major": 2,
       "version_minor": 0
      },
      "text/plain": [
       "  0%|          | 0/30 [00:00<?, ?it/s]"
      ]
     },
     "metadata": {},
     "output_type": "display_data"
    },
    {
     "name": "stdout",
     "output_type": "stream",
     "text": [
      "epoch = 0, error = 2045.0795914124303\n",
      "epoch = 1, error = 1136.0900181052873\n",
      "epoch = 2, error = 641.5089497065719\n",
      "epoch = 3, error = 375.9603703669145\n",
      "epoch = 4, error = 231.9124665477793\n",
      "epoch = 5, error = 151.2753315020662\n",
      "epoch = 6, error = 104.95837530943321\n",
      "epoch = 7, error = 74.34428192072055\n",
      "epoch = 8, error = 56.49577761809701\n",
      "epoch = 9, error = 42.30660604373702\n",
      "epoch = 10, error = 34.04579257441804\n",
      "epoch = 11, error = 27.044936824324047\n",
      "epoch = 12, error = 22.19905693752826\n",
      "epoch = 13, error = 17.79325269189481\n",
      "epoch = 14, error = 15.291519985598633\n",
      "epoch = 15, error = 12.929546906798869\n",
      "epoch = 16, error = 10.03062966732215\n",
      "epoch = 17, error = 7.311751969206081\n",
      "epoch = 18, error = 5.4703631054324395\n",
      "epoch = 19, error = 3.8796952727043705\n",
      "epoch = 20, error = 2.623689590094114\n",
      "epoch = 21, error = 1.8242446358825473\n",
      "epoch = 22, error = 1.3283479774927067\n",
      "epoch = 23, error = 1.0235607917754612\n",
      "epoch = 24, error = 0.8304026496152432\n",
      "epoch = 25, error = 0.7024883723019462\n",
      "epoch = 26, error = 0.6142636955534698\n",
      "epoch = 27, error = 0.549972801606003\n",
      "epoch = 28, error = 0.49999254665661885\n",
      "epoch = 29, error = 0.45845199681052384\n"
     ]
    },
    {
     "data": {
      "text/plain": [
       "[<matplotlib.lines.Line2D at 0x25c036140d0>]"
      ]
     },
     "execution_count": 526,
     "metadata": {},
     "output_type": "execute_result"
    },
    {
     "data": {
      "image/png": "[encoded data removed]",
      "text/plain": [
       "<Figure size 640x480 with 1 Axes>"
      ]
     },
     "metadata": {},
     "output_type": "display_data"
    }
   ],
   "source": [
    "epochs = 30\n",
    "learning_rate = 0.01\n",
    "batch_size = 64\n",
    "\n",
    "errors = []\n",
    "error = 0\n",
    "\n",
    "for e in tqdm(range(epochs)):\n",
    "    for i in range(0, X_train.shape[1], batch_size):\n",
    "#         print(x, y)\n",
    "        forward_data = X_train[:, i: i + batch_size]\n",
    "        for layer in network:\n",
    "            forward_data = layer.forward(forward_data)\n",
    "        \n",
    "        error += cross_entropy(Y_train[:, i: i + batch_size], forward_data)\n",
    "\n",
    "        grad = cross_entropy_prime(Y_train[:, i: i + batch_size], forward_data)\n",
    "\n",
    "        for layer in reversed(network):\n",
    "            grad = layer.backward(grad, learning_rate)\n",
    "\n",
    "    error /= len(x)\n",
    "    errors.append(error)\n",
    "    print(f\"epoch = {e}, error = {error}\")\n",
    "        \n",
    "        \n",
    "plt.plot(range(0, epochs), errors)"
   ]
  },
  {
   "cell_type": "code",
   "execution_count": null,
   "id": "bdd5292f",
   "metadata": {},
   "outputs": [],
   "source": []
  },
  {
   "cell_type": "code",
   "execution_count": 557,
   "id": "3393d087",
   "metadata": {},
   "outputs": [
    {
     "data": {
      "text/plain": [
       "((784, 10000), (10, 10000))"
      ]
     },
     "execution_count": 557,
     "metadata": {},
     "output_type": "execute_result"
    }
   ],
   "source": [
    "test_data = pd.read_csv(r'C:/Users/sasha/Desktop/JUPYTER/Datasets/mnist/mnist_test.csv')\n",
    "X_test = test_data.drop(columns='label').to_numpy().T\n",
    "X_test = (X_test/ 255)\n",
    "\n",
    "Y_mnist_test = test_data['label'].to_numpy()\n",
    "Y_test = np.hstack([one_hot(elem, 10) for elem in Y_mnist_test])\n",
    "\n",
    "X_test.shape, Y_test.shape"
   ]
  },
  {
   "cell_type": "code",
   "execution_count": null,
   "id": "da82e5ef",
   "metadata": {},
   "outputs": [],
   "source": []
  },
  {
   "cell_type": "code",
   "execution_count": 604,
   "id": "fd1279c6",
   "metadata": {},
   "outputs": [],
   "source": [
    "def predict(network, input):\n",
    "    output = input\n",
    "    for layer in network:\n",
    "        output = layer.forward(output)\n",
    "        \n",
    "    return output"
   ]
  },
  {
   "cell_type": "code",
   "execution_count": 623,
   "id": "2842597f",
   "metadata": {},
   "outputs": [],
   "source": [
    "def get_accuracy(answers, predictions):\n",
    "    \n",
    "    max_in_columns = np.max(predictions, axis = 0)\n",
    "    one_hot_predictions = (predictions == max_in_columns).astype(int)\n",
    "    \n",
    "    mistake_count = np.any(one_hot_predictions != answers, axis=0)\n",
    "    accuracy = 1 - np.sum(mistake_count)/answers.shape[1]\n",
    "    \n",
    "    print(f\"Accuracy on {answers.shape[1]} samples is {accuracy}\")\n",
    "    return accuracy"
   ]
  },
  {
   "cell_type": "code",
   "execution_count": null,
   "id": "ee0ad7d4",
   "metadata": {},
   "outputs": [],
   "source": []
  },
  {
   "cell_type": "code",
   "execution_count": null,
   "id": "8e4c3a2b",
   "metadata": {},
   "outputs": [],
   "source": [
    "def show_mistakes(answers, predictions):\n",
    "    pass    "
   ]
  },
  {
   "cell_type": "code",
   "execution_count": null,
   "id": "79923fa1",
   "metadata": {},
   "outputs": [],
   "source": []
  },
  {
   "cell_type": "code",
   "execution_count": 626,
   "id": "8db2250b",
   "metadata": {},
   "outputs": [
    {
     "name": "stdout",
     "output_type": "stream",
     "text": [
      "Accuracy on 10000 samples is 0.9797\n"
     ]
    },
    {
     "data": {
      "text/plain": [
       "0.9797"
      ]
     },
     "execution_count": 626,
     "metadata": {},
     "output_type": "execute_result"
    }
   ],
   "source": [
    "get_accuracy(Y_test, predict(network, X_test))"
   ]
  },
  {
   "cell_type": "code",
   "execution_count": null,
   "id": "5045ef3c",
   "metadata": {},
   "outputs": [],
   "source": []
  },
  {
   "cell_type": "code",
   "execution_count": 688,
   "id": "284843a1",
   "metadata": {},
   "outputs": [],
   "source": [
    "def show_and_predict(network, X, answers, index):\n",
    "    \n",
    "    \"\"\"\n",
    "    Just for one sample\n",
    "    input.shape must be (., 1) for correct showing\n",
    "    \n",
    "    \"\"\"\n",
    "    output = X[:, index].reshape(-1,1)\n",
    "    \n",
    "    image_28x28 = output.reshape(28, 28)\n",
    "    plt.imshow(image_28x28, cmap='gray')\n",
    "    plt.axis('off') \n",
    "    plt.show()\n",
    "    \n",
    "    for layer in network:\n",
    "        output = layer.forward(output)\n",
    "    \n",
    "    prediction = np.argmax(output)\n",
    "    true_label = np.argmax(answers[:, index].reshape(-1,1))\n",
    "    \n",
    "    print(f\"Label = {prediction}, probability = {output[prediction]}, true_label = {true_label} \")\n",
    "    \n",
    "#     return output"
   ]
  },
  {
   "cell_type": "code",
   "execution_count": 698,
   "id": "9b5b0030",
   "metadata": {
    "scrolled": false
   },
   "outputs": [
    {
     "data": {
      "image/png": "[encoded data removed]",
      "text/plain": [
       "<Figure size 640x480 with 1 Axes>"
      ]
     },
     "metadata": {},
     "output_type": "display_data"
    },
    {
     "name": "stdout",
     "output_type": "stream",
     "text": [
      "Label = 7, probability = [1.], true_label = 7 \n"
     ]
    }
   ],
   "source": [
    "show_and_predict(network, X_test, Y_test, 0)\n"
   ]
  },
  {
   "cell_type": "code",
   "execution_count": null,
   "id": "d1f370ce",
   "metadata": {},
   "outputs": [],
   "source": []
  },
  {
   "cell_type": "code",
   "execution_count": null,
   "id": "76a36c54",
   "metadata": {},
   "outputs": [],
   "source": []
  },
  {
   "cell_type": "code",
   "execution_count": null,
   "id": "1c81bd6b",
   "metadata": {},
   "outputs": [],
   "source": []
  },
  {
   "cell_type": "code",
   "execution_count": null,
   "id": "f52c1217",
   "metadata": {},
   "outputs": [],
   "source": []
  }
 ],
 "metadata": {
  "kernelspec": {
   "display_name": "Python 3 (ipykernel)",
   "language": "python",
   "name": "python3"
  },
  "language_info": {
   "codemirror_mode": {
    "name": "ipython",
    "version": 3
   },
   "file_extension": ".py",
   "mimetype": "text/x-python",
   "name": "python",
   "nbconvert_exporter": "python",
   "pygments_lexer": "ipython3",
   "version": "3.9.13"
  }
 },
 "nbformat": 4,
 "nbformat_minor": 5
}
